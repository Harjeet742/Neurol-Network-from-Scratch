{
 "cells": [
  {
   "cell_type": "markdown",
   "id": "3b533c5d-e08f-4800-a140-7255393e8dc7",
   "metadata": {},
   "source": [
    "# single neural\n",
    "### A single neural (or single neuron) is the basic computational unit in a neural network that receives multiple inputs, applies weights to them, sums them, and passes the result through an activation function to produce an output."
   ]
  },
  {
   "cell_type": "code",
   "execution_count": 1,
   "id": "3143d588-6de8-4a15-8353-4d0c8879013f",
   "metadata": {},
   "outputs": [],
   "source": [
    "inputs = [1,2,3]\n",
    "weights = [0.2,0.8,-0.5]\n",
    "bias = 2 # it helps to move the backward and forward"
   ]
  },
  {
   "cell_type": "code",
   "execution_count": 3,
   "id": "40c7b85d-dbd6-4f40-9c81-de08aa746014",
   "metadata": {},
   "outputs": [
    {
     "name": "stdout",
     "output_type": "stream",
     "text": [
      "2.3\n"
     ]
    }
   ],
   "source": [
    "output = inputs[0]*weights[0]+inputs[1]*weights[1]+inputs[2]*weights[2]+bias\n",
    "print(output)"
   ]
  },
  {
   "cell_type": "markdown",
   "id": "3048a915-b6fb-4818-9c4a-9846aed5a3cb",
   "metadata": {},
   "source": [
    "# adding an input"
   ]
  },
  {
   "cell_type": "code",
   "execution_count": 6,
   "id": "e9f77141-9bd5-494e-974f-b749537652b3",
   "metadata": {},
   "outputs": [],
   "source": [
    "inputs = [1,2,3, 2.5]\n",
    "weights = [0.2,0.8, -0.5,1.0]\n",
    "bias = 2"
   ]
  },
  {
   "cell_type": "code",
   "execution_count": 8,
   "id": "9fbbeffd-8405-4e49-a461-5e344c387954",
   "metadata": {},
   "outputs": [
    {
     "name": "stdout",
     "output_type": "stream",
     "text": [
      "4.8\n"
     ]
    }
   ],
   "source": [
    "output = inputs[0]*weights[0]+inputs[1]*weights[1]+inputs[2]*weights[2]+inputs[3]*weights[3]+bias\n",
    "print(output)"
   ]
  },
  {
   "cell_type": "markdown",
   "id": "64f050cd-a845-4468-8b0d-2b2641cc9f74",
   "metadata": {},
   "source": [
    "## Layer of neural"
   ]
  },
  {
   "cell_type": "code",
   "execution_count": 12,
   "id": "599836dd-0de3-4559-956a-0c01065764f7",
   "metadata": {},
   "outputs": [],
   "source": [
    "inputs = [1,2,3, 2.5]\n",
    "weights1 = [0.2, 0.8, -0.5, 1.0]\n",
    "weights2 = [0.5, -0.91, 0.26, -0.5]\n",
    "weights3 = [-0.26, -0.27, 0.17, 0.87]\n",
    "\n",
    "bias1 = 2\n",
    "bias2 = 3\n",
    "bias3 = 0.5"
   ]
  },
  {
   "cell_type": "code",
   "execution_count": 13,
   "id": "71ef2fa8-4704-44ca-93a3-6b8f9bc3f74b",
   "metadata": {},
   "outputs": [],
   "source": [
    "outputs = [\n",
    "    # first neuron\n",
    "    inputs[0] * weights1[0]+\n",
    "    inputs[1] * weights1[1]+\n",
    "    inputs[2] * weights1[2]+\n",
    "    inputs[3] * weights1[3]+ bias1 ,\n",
    "\n",
    "    # second\n",
    "    inputs[0] * weights2[0]+\n",
    "    inputs[1] * weights2[1]+\n",
    "    inputs[2] * weights2[2]+\n",
    "    inputs[3] * weights2[3]+ bias2,\n",
    "\n",
    "    # third neuron\n",
    "    inputs[0] * weights3[0]+\n",
    "    inputs[1] * weights3[1]+\n",
    "    inputs[2] * weights3[2]+\n",
    "    inputs[3] * weights3[3]+ bias3\n",
    "    \n",
    "]"
   ]
  },
  {
   "cell_type": "code",
   "execution_count": 14,
   "id": "5aadee83-205b-4e8e-a09c-28ffbbc89bcc",
   "metadata": {},
   "outputs": [
    {
     "name": "stdout",
     "output_type": "stream",
     "text": [
      "[4.8, 1.21, 2.385]\n"
     ]
    }
   ],
   "source": [
    "print(outputs)"
   ]
  },
  {
   "cell_type": "markdown",
   "id": "f60d9188-e17e-4339-bb31-6bc94d99216e",
   "metadata": {},
   "source": [
    "## calculating through loops"
   ]
  },
  {
   "cell_type": "code",
   "execution_count": 24,
   "id": "2deab616-660c-48d9-a24e-de3303980866",
   "metadata": {},
   "outputs": [],
   "source": [
    "inputs = [1,2,3, 2.5]\n",
    "weights = [[0.2, 0.8, -0.5, 1.0],\n",
    "           [0.5, -0.91, 0.26, -0.5],\n",
    "           [-0.26, -0.27, 0.17, 0.87]]\n",
    "\n",
    "biases = [2,3,0.5]"
   ]
  },
  {
   "cell_type": "code",
   "execution_count": 25,
   "id": "323b37cc-fdb1-4ef9-bb01-eaa0aec635ca",
   "metadata": {},
   "outputs": [],
   "source": [
    "layers_output = []"
   ]
  },
  {
   "cell_type": "code",
   "execution_count": 26,
   "id": "13d0ea0e-06e0-4650-9cf4-eea2e46d0861",
   "metadata": {},
   "outputs": [
    {
     "name": "stdout",
     "output_type": "stream",
     "text": [
      "[4.8, 1.21, 2.385]\n"
     ]
    }
   ],
   "source": [
    "# for each neuron\n",
    "for neuron_weights, neuron_bias in zip(weights, biases):\n",
    "    # setting a variable\n",
    "    neuron_output = 0\n",
    "    # for each input and weight \n",
    "    for n_input, weight in zip(inputs, neuron_weights):\n",
    "        neuron_output += n_input *  weight\n",
    "\n",
    "    neuron_output +=  neuron_bias\n",
    "\n",
    "    layers_output.append(neuron_output)\n",
    "\n",
    "print(layers_output)"
   ]
  },
  {
   "cell_type": "markdown",
   "id": "165cfaf1-8560-447f-a0ee-cb51c4721fb9",
   "metadata": {},
   "source": [
    "## dot product 2 vectors"
   ]
  },
  {
   "cell_type": "code",
   "execution_count": 1,
   "id": "bc85b6dd-2a1a-431c-837d-c460abfc97ab",
   "metadata": {},
   "outputs": [],
   "source": [
    "import numpy as np"
   ]
  },
  {
   "cell_type": "code",
   "execution_count": 7,
   "id": "0cf39840-08a6-4865-8e34-a41d0084042d",
   "metadata": {},
   "outputs": [],
   "source": [
    "a = np.array([1,2,3])\n",
    "b = np.array([2,3,4])"
   ]
  },
  {
   "cell_type": "code",
   "execution_count": 8,
   "id": "bccafe5a-cf6f-41bb-a788-ce5d4770b44e",
   "metadata": {},
   "outputs": [
    {
     "data": {
      "text/plain": [
       "array([1, 2, 3])"
      ]
     },
     "execution_count": 8,
     "metadata": {},
     "output_type": "execute_result"
    }
   ],
   "source": [
    "a"
   ]
  },
  {
   "cell_type": "code",
   "execution_count": 9,
   "id": "d83b542b-22b3-47e2-aac6-1221524da912",
   "metadata": {},
   "outputs": [
    {
     "data": {
      "text/plain": [
       "array([2, 3, 4])"
      ]
     },
     "execution_count": 9,
     "metadata": {},
     "output_type": "execute_result"
    }
   ],
   "source": [
    "b"
   ]
  },
  {
   "cell_type": "code",
   "execution_count": 10,
   "id": "a7af68dd-9c9c-41bc-aed6-181cfc98cb39",
   "metadata": {},
   "outputs": [
    {
     "data": {
      "text/plain": [
       "np.int64(20)"
      ]
     },
     "execution_count": 10,
     "metadata": {},
     "output_type": "execute_result"
    }
   ],
   "source": [
    "np.dot(a,b)"
   ]
  },
  {
   "cell_type": "code",
   "execution_count": null,
   "id": "774f35e6-2967-441c-ac09-fac9fe353cf2",
   "metadata": {},
   "outputs": [],
   "source": []
  }
 ],
 "metadata": {
  "kernelspec": {
   "display_name": "Python 3 (ipykernel)",
   "language": "python",
   "name": "python3"
  },
  "language_info": {
   "codemirror_mode": {
    "name": "ipython",
    "version": 3
   },
   "file_extension": ".py",
   "mimetype": "text/x-python",
   "name": "python",
   "nbconvert_exporter": "python",
   "pygments_lexer": "ipython3",
   "version": "3.13.5"
  }
 },
 "nbformat": 4,
 "nbformat_minor": 5
}
